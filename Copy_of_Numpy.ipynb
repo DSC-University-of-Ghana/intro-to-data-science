{
  "nbformat": 4,
  "nbformat_minor": 0,
  "metadata": {
    "kernelspec": {
      "display_name": "Python 3",
      "language": "python",
      "name": "python3"
    },
    "language_info": {
      "codemirror_mode": {
        "name": "ipython",
        "version": 3
      },
      "file_extension": ".py",
      "mimetype": "text/x-python",
      "name": "python",
      "nbconvert_exporter": "python",
      "pygments_lexer": "ipython3",
      "version": "3.7.6"
    },
    "colab": {
      "name": "Copy of Numpy.ipynb",
      "provenance": [],
      "include_colab_link": true
    }
  },
  "cells": [
    {
      "cell_type": "markdown",
      "metadata": {
        "id": "view-in-github",
        "colab_type": "text"
      },
      "source": [
        "<a href=\"https://colab.research.google.com/github/DSC-University-of-Ghana/intro-to-data-science/blob/main/Copy_of_Numpy.ipynb\" target=\"_parent\"><img src=\"https://colab.research.google.com/assets/colab-badge.svg\" alt=\"Open In Colab\"/></a>"
      ]
    },
    {
      "cell_type": "markdown",
      "metadata": {
        "id": "vILYN8AwGcQS"
      },
      "source": [
        "# Numpy \n",
        "\n",
        "\n"
      ]
    },
    {
      "cell_type": "code",
      "metadata": {
        "id": "_AxjZNerGcRh",
        "colab": {
          "base_uri": "https://localhost:8080/"
        },
        "outputId": "4b37f135-007b-4347-a331-e813f25d9c70"
      },
      "source": [
        "# To get started, install numpy using pip\n",
        "!pip install numpy\n"
      ],
      "execution_count": null,
      "outputs": [
        {
          "output_type": "stream",
          "text": [
            "Requirement already satisfied: numpy in /usr/local/lib/python3.6/dist-packages (1.19.5)\n"
          ],
          "name": "stdout"
        }
      ]
    },
    {
      "cell_type": "code",
      "metadata": {
        "id": "2AR7JewLGcRr"
      },
      "source": [
        "# Now to use numpy, import numpy as \"np\"\n",
        "import numpy as np"
      ],
      "execution_count": null,
      "outputs": []
    },
    {
      "cell_type": "markdown",
      "metadata": {
        "id": "xBjcFFYyGcRt"
      },
      "source": [
        "# Numpy Functions"
      ]
    },
    {
      "cell_type": "code",
      "metadata": {
        "scrolled": true,
        "id": "lCGkFRxuGcRw",
        "colab": {
          "base_uri": "https://localhost:8080/"
        },
        "outputId": "78e911b5-9dc4-4196-f567-9eba0589dd23"
      },
      "source": [
        "# \"np\" object has inherited all the functions from numpy\n",
        "# Check the directory of numpy\n",
        "\n",
        "dir(np)"
      ],
      "execution_count": null,
      "outputs": [
        {
          "output_type": "execute_result",
          "data": {
            "text/plain": [
              "['ALLOW_THREADS',\n",
              " 'AxisError',\n",
              " 'BUFSIZE',\n",
              " 'CLIP',\n",
              " 'ComplexWarning',\n",
              " 'DataSource',\n",
              " 'ERR_CALL',\n",
              " 'ERR_DEFAULT',\n",
              " 'ERR_IGNORE',\n",
              " 'ERR_LOG',\n",
              " 'ERR_PRINT',\n",
              " 'ERR_RAISE',\n",
              " 'ERR_WARN',\n",
              " 'FLOATING_POINT_SUPPORT',\n",
              " 'FPE_DIVIDEBYZERO',\n",
              " 'FPE_INVALID',\n",
              " 'FPE_OVERFLOW',\n",
              " 'FPE_UNDERFLOW',\n",
              " 'False_',\n",
              " 'Inf',\n",
              " 'Infinity',\n",
              " 'MAXDIMS',\n",
              " 'MAY_SHARE_BOUNDS',\n",
              " 'MAY_SHARE_EXACT',\n",
              " 'MachAr',\n",
              " 'ModuleDeprecationWarning',\n",
              " 'NAN',\n",
              " 'NINF',\n",
              " 'NZERO',\n",
              " 'NaN',\n",
              " 'PINF',\n",
              " 'PZERO',\n",
              " 'RAISE',\n",
              " 'RankWarning',\n",
              " 'SHIFT_DIVIDEBYZERO',\n",
              " 'SHIFT_INVALID',\n",
              " 'SHIFT_OVERFLOW',\n",
              " 'SHIFT_UNDERFLOW',\n",
              " 'ScalarType',\n",
              " 'Tester',\n",
              " 'TooHardError',\n",
              " 'True_',\n",
              " 'UFUNC_BUFSIZE_DEFAULT',\n",
              " 'UFUNC_PYVALS_NAME',\n",
              " 'VisibleDeprecationWarning',\n",
              " 'WRAP',\n",
              " '_NoValue',\n",
              " '_UFUNC_API',\n",
              " '__NUMPY_SETUP__',\n",
              " '__all__',\n",
              " '__builtins__',\n",
              " '__cached__',\n",
              " '__config__',\n",
              " '__doc__',\n",
              " '__file__',\n",
              " '__git_revision__',\n",
              " '__loader__',\n",
              " '__name__',\n",
              " '__package__',\n",
              " '__path__',\n",
              " '__spec__',\n",
              " '__version__',\n",
              " '_add_newdoc_ufunc',\n",
              " '_distributor_init',\n",
              " '_globals',\n",
              " '_mat',\n",
              " '_pytesttester',\n",
              " 'abs',\n",
              " 'absolute',\n",
              " 'add',\n",
              " 'add_docstring',\n",
              " 'add_newdoc',\n",
              " 'add_newdoc_ufunc',\n",
              " 'alen',\n",
              " 'all',\n",
              " 'allclose',\n",
              " 'alltrue',\n",
              " 'amax',\n",
              " 'amin',\n",
              " 'angle',\n",
              " 'any',\n",
              " 'append',\n",
              " 'apply_along_axis',\n",
              " 'apply_over_axes',\n",
              " 'arange',\n",
              " 'arccos',\n",
              " 'arccosh',\n",
              " 'arcsin',\n",
              " 'arcsinh',\n",
              " 'arctan',\n",
              " 'arctan2',\n",
              " 'arctanh',\n",
              " 'argmax',\n",
              " 'argmin',\n",
              " 'argpartition',\n",
              " 'argsort',\n",
              " 'argwhere',\n",
              " 'around',\n",
              " 'array',\n",
              " 'array2string',\n",
              " 'array_equal',\n",
              " 'array_equiv',\n",
              " 'array_repr',\n",
              " 'array_split',\n",
              " 'array_str',\n",
              " 'asanyarray',\n",
              " 'asarray',\n",
              " 'asarray_chkfinite',\n",
              " 'ascontiguousarray',\n",
              " 'asfarray',\n",
              " 'asfortranarray',\n",
              " 'asmatrix',\n",
              " 'asscalar',\n",
              " 'atleast_1d',\n",
              " 'atleast_2d',\n",
              " 'atleast_3d',\n",
              " 'average',\n",
              " 'bartlett',\n",
              " 'base_repr',\n",
              " 'binary_repr',\n",
              " 'bincount',\n",
              " 'bitwise_and',\n",
              " 'bitwise_not',\n",
              " 'bitwise_or',\n",
              " 'bitwise_xor',\n",
              " 'blackman',\n",
              " 'block',\n",
              " 'bmat',\n",
              " 'bool',\n",
              " 'bool8',\n",
              " 'bool_',\n",
              " 'broadcast',\n",
              " 'broadcast_arrays',\n",
              " 'broadcast_to',\n",
              " 'busday_count',\n",
              " 'busday_offset',\n",
              " 'busdaycalendar',\n",
              " 'byte',\n",
              " 'byte_bounds',\n",
              " 'bytes0',\n",
              " 'bytes_',\n",
              " 'c_',\n",
              " 'can_cast',\n",
              " 'cast',\n",
              " 'cbrt',\n",
              " 'cdouble',\n",
              " 'ceil',\n",
              " 'cfloat',\n",
              " 'char',\n",
              " 'character',\n",
              " 'chararray',\n",
              " 'choose',\n",
              " 'clip',\n",
              " 'clongdouble',\n",
              " 'clongfloat',\n",
              " 'column_stack',\n",
              " 'common_type',\n",
              " 'compare_chararrays',\n",
              " 'compat',\n",
              " 'complex',\n",
              " 'complex128',\n",
              " 'complex256',\n",
              " 'complex64',\n",
              " 'complex_',\n",
              " 'complexfloating',\n",
              " 'compress',\n",
              " 'concatenate',\n",
              " 'conj',\n",
              " 'conjugate',\n",
              " 'convolve',\n",
              " 'copy',\n",
              " 'copysign',\n",
              " 'copyto',\n",
              " 'core',\n",
              " 'corrcoef',\n",
              " 'correlate',\n",
              " 'cos',\n",
              " 'cosh',\n",
              " 'count_nonzero',\n",
              " 'cov',\n",
              " 'cross',\n",
              " 'csingle',\n",
              " 'ctypeslib',\n",
              " 'cumprod',\n",
              " 'cumproduct',\n",
              " 'cumsum',\n",
              " 'datetime64',\n",
              " 'datetime_as_string',\n",
              " 'datetime_data',\n",
              " 'deg2rad',\n",
              " 'degrees',\n",
              " 'delete',\n",
              " 'deprecate',\n",
              " 'deprecate_with_doc',\n",
              " 'diag',\n",
              " 'diag_indices',\n",
              " 'diag_indices_from',\n",
              " 'diagflat',\n",
              " 'diagonal',\n",
              " 'diff',\n",
              " 'digitize',\n",
              " 'disp',\n",
              " 'divide',\n",
              " 'divmod',\n",
              " 'dot',\n",
              " 'double',\n",
              " 'dsplit',\n",
              " 'dstack',\n",
              " 'dtype',\n",
              " 'e',\n",
              " 'ediff1d',\n",
              " 'einsum',\n",
              " 'einsum_path',\n",
              " 'emath',\n",
              " 'empty',\n",
              " 'empty_like',\n",
              " 'equal',\n",
              " 'errstate',\n",
              " 'euler_gamma',\n",
              " 'exp',\n",
              " 'exp2',\n",
              " 'expand_dims',\n",
              " 'expm1',\n",
              " 'extract',\n",
              " 'eye',\n",
              " 'fabs',\n",
              " 'fastCopyAndTranspose',\n",
              " 'fft',\n",
              " 'fill_diagonal',\n",
              " 'find_common_type',\n",
              " 'finfo',\n",
              " 'fix',\n",
              " 'flatiter',\n",
              " 'flatnonzero',\n",
              " 'flexible',\n",
              " 'flip',\n",
              " 'fliplr',\n",
              " 'flipud',\n",
              " 'float',\n",
              " 'float128',\n",
              " 'float16',\n",
              " 'float32',\n",
              " 'float64',\n",
              " 'float_',\n",
              " 'float_power',\n",
              " 'floating',\n",
              " 'floor',\n",
              " 'floor_divide',\n",
              " 'fmax',\n",
              " 'fmin',\n",
              " 'fmod',\n",
              " 'format_float_positional',\n",
              " 'format_float_scientific',\n",
              " 'format_parser',\n",
              " 'frexp',\n",
              " 'frombuffer',\n",
              " 'fromfile',\n",
              " 'fromfunction',\n",
              " 'fromiter',\n",
              " 'frompyfunc',\n",
              " 'fromregex',\n",
              " 'fromstring',\n",
              " 'full',\n",
              " 'full_like',\n",
              " 'fv',\n",
              " 'gcd',\n",
              " 'generic',\n",
              " 'genfromtxt',\n",
              " 'geomspace',\n",
              " 'get_array_wrap',\n",
              " 'get_include',\n",
              " 'get_printoptions',\n",
              " 'getbufsize',\n",
              " 'geterr',\n",
              " 'geterrcall',\n",
              " 'geterrobj',\n",
              " 'gradient',\n",
              " 'greater',\n",
              " 'greater_equal',\n",
              " 'half',\n",
              " 'hamming',\n",
              " 'hanning',\n",
              " 'heaviside',\n",
              " 'histogram',\n",
              " 'histogram2d',\n",
              " 'histogram_bin_edges',\n",
              " 'histogramdd',\n",
              " 'hsplit',\n",
              " 'hstack',\n",
              " 'hypot',\n",
              " 'i0',\n",
              " 'identity',\n",
              " 'iinfo',\n",
              " 'imag',\n",
              " 'in1d',\n",
              " 'index_exp',\n",
              " 'indices',\n",
              " 'inexact',\n",
              " 'inf',\n",
              " 'info',\n",
              " 'infty',\n",
              " 'inner',\n",
              " 'insert',\n",
              " 'int',\n",
              " 'int0',\n",
              " 'int16',\n",
              " 'int32',\n",
              " 'int64',\n",
              " 'int8',\n",
              " 'int_',\n",
              " 'intc',\n",
              " 'integer',\n",
              " 'interp',\n",
              " 'intersect1d',\n",
              " 'intp',\n",
              " 'invert',\n",
              " 'ipmt',\n",
              " 'irr',\n",
              " 'is_busday',\n",
              " 'isclose',\n",
              " 'iscomplex',\n",
              " 'iscomplexobj',\n",
              " 'isfinite',\n",
              " 'isfortran',\n",
              " 'isin',\n",
              " 'isinf',\n",
              " 'isnan',\n",
              " 'isnat',\n",
              " 'isneginf',\n",
              " 'isposinf',\n",
              " 'isreal',\n",
              " 'isrealobj',\n",
              " 'isscalar',\n",
              " 'issctype',\n",
              " 'issubclass_',\n",
              " 'issubdtype',\n",
              " 'issubsctype',\n",
              " 'iterable',\n",
              " 'ix_',\n",
              " 'kaiser',\n",
              " 'kernel_version',\n",
              " 'kron',\n",
              " 'lcm',\n",
              " 'ldexp',\n",
              " 'left_shift',\n",
              " 'less',\n",
              " 'less_equal',\n",
              " 'lexsort',\n",
              " 'lib',\n",
              " 'linalg',\n",
              " 'linspace',\n",
              " 'little_endian',\n",
              " 'load',\n",
              " 'loads',\n",
              " 'loadtxt',\n",
              " 'log',\n",
              " 'log10',\n",
              " 'log1p',\n",
              " 'log2',\n",
              " 'logaddexp',\n",
              " 'logaddexp2',\n",
              " 'logical_and',\n",
              " 'logical_not',\n",
              " 'logical_or',\n",
              " 'logical_xor',\n",
              " 'logspace',\n",
              " 'long',\n",
              " 'longcomplex',\n",
              " 'longdouble',\n",
              " 'longfloat',\n",
              " 'longlong',\n",
              " 'lookfor',\n",
              " 'ma',\n",
              " 'mafromtxt',\n",
              " 'mask_indices',\n",
              " 'mat',\n",
              " 'math',\n",
              " 'matmul',\n",
              " 'matrix',\n",
              " 'matrixlib',\n",
              " 'max',\n",
              " 'maximum',\n",
              " 'maximum_sctype',\n",
              " 'may_share_memory',\n",
              " 'mean',\n",
              " 'median',\n",
              " 'memmap',\n",
              " 'meshgrid',\n",
              " 'mgrid',\n",
              " 'min',\n",
              " 'min_scalar_type',\n",
              " 'minimum',\n",
              " 'mintypecode',\n",
              " 'mirr',\n",
              " 'mod',\n",
              " 'modf',\n",
              " 'moveaxis',\n",
              " 'msort',\n",
              " 'multiply',\n",
              " 'nan',\n",
              " 'nan_to_num',\n",
              " 'nanargmax',\n",
              " 'nanargmin',\n",
              " 'nancumprod',\n",
              " 'nancumsum',\n",
              " 'nanmax',\n",
              " 'nanmean',\n",
              " 'nanmedian',\n",
              " 'nanmin',\n",
              " 'nanpercentile',\n",
              " 'nanprod',\n",
              " 'nanquantile',\n",
              " 'nanstd',\n",
              " 'nansum',\n",
              " 'nanvar',\n",
              " 'nbytes',\n",
              " 'ndarray',\n",
              " 'ndenumerate',\n",
              " 'ndfromtxt',\n",
              " 'ndim',\n",
              " 'ndindex',\n",
              " 'nditer',\n",
              " 'negative',\n",
              " 'nested_iters',\n",
              " 'newaxis',\n",
              " 'nextafter',\n",
              " 'nonzero',\n",
              " 'not_equal',\n",
              " 'nper',\n",
              " 'npv',\n",
              " 'numarray',\n",
              " 'number',\n",
              " 'obj2sctype',\n",
              " 'object',\n",
              " 'object0',\n",
              " 'object_',\n",
              " 'ogrid',\n",
              " 'oldnumeric',\n",
              " 'ones',\n",
              " 'ones_like',\n",
              " 'os',\n",
              " 'outer',\n",
              " 'packbits',\n",
              " 'pad',\n",
              " 'partition',\n",
              " 'percentile',\n",
              " 'pi',\n",
              " 'piecewise',\n",
              " 'place',\n",
              " 'pmt',\n",
              " 'poly',\n",
              " 'poly1d',\n",
              " 'polyadd',\n",
              " 'polyder',\n",
              " 'polydiv',\n",
              " 'polyfit',\n",
              " 'polyint',\n",
              " 'polymul',\n",
              " 'polynomial',\n",
              " 'polysub',\n",
              " 'polyval',\n",
              " 'positive',\n",
              " 'power',\n",
              " 'ppmt',\n",
              " 'printoptions',\n",
              " 'prod',\n",
              " 'product',\n",
              " 'promote_types',\n",
              " 'ptp',\n",
              " 'put',\n",
              " 'put_along_axis',\n",
              " 'putmask',\n",
              " 'pv',\n",
              " 'quantile',\n",
              " 'r_',\n",
              " 'rad2deg',\n",
              " 'radians',\n",
              " 'random',\n",
              " 'rate',\n",
              " 'ravel',\n",
              " 'ravel_multi_index',\n",
              " 'real',\n",
              " 'real_if_close',\n",
              " 'rec',\n",
              " 'recarray',\n",
              " 'recfromcsv',\n",
              " 'recfromtxt',\n",
              " 'reciprocal',\n",
              " 'record',\n",
              " 'remainder',\n",
              " 'repeat',\n",
              " 'require',\n",
              " 'reshape',\n",
              " 'resize',\n",
              " 'result_type',\n",
              " 'right_shift',\n",
              " 'rint',\n",
              " 'roll',\n",
              " 'rollaxis',\n",
              " 'roots',\n",
              " 'rot90',\n",
              " 'round',\n",
              " 'round_',\n",
              " 'row_stack',\n",
              " 's_',\n",
              " 'safe_eval',\n",
              " 'save',\n",
              " 'savetxt',\n",
              " 'savez',\n",
              " 'savez_compressed',\n",
              " 'sctype2char',\n",
              " 'sctypeDict',\n",
              " 'sctypeNA',\n",
              " 'sctypes',\n",
              " 'searchsorted',\n",
              " 'select',\n",
              " 'set_numeric_ops',\n",
              " 'set_printoptions',\n",
              " 'set_string_function',\n",
              " 'setbufsize',\n",
              " 'setdiff1d',\n",
              " 'seterr',\n",
              " 'seterrcall',\n",
              " 'seterrobj',\n",
              " 'setxor1d',\n",
              " 'shape',\n",
              " 'shares_memory',\n",
              " 'short',\n",
              " 'show_config',\n",
              " 'sign',\n",
              " 'signbit',\n",
              " 'signedinteger',\n",
              " 'sin',\n",
              " 'sinc',\n",
              " 'single',\n",
              " 'singlecomplex',\n",
              " 'sinh',\n",
              " 'size',\n",
              " 'sometrue',\n",
              " 'sort',\n",
              " 'sort_complex',\n",
              " 'source',\n",
              " 'spacing',\n",
              " 'split',\n",
              " 'sqrt',\n",
              " 'square',\n",
              " 'squeeze',\n",
              " 'stack',\n",
              " 'std',\n",
              " 'str',\n",
              " 'str0',\n",
              " 'str_',\n",
              " 'string_',\n",
              " 'subtract',\n",
              " 'sum',\n",
              " 'swapaxes',\n",
              " 'sys',\n",
              " 'take',\n",
              " 'take_along_axis',\n",
              " 'tan',\n",
              " 'tanh',\n",
              " 'tensordot',\n",
              " 'test',\n",
              " 'testing',\n",
              " 'tile',\n",
              " 'timedelta64',\n",
              " 'trace',\n",
              " 'tracemalloc_domain',\n",
              " 'transpose',\n",
              " 'trapz',\n",
              " 'tri',\n",
              " 'tril',\n",
              " 'tril_indices',\n",
              " 'tril_indices_from',\n",
              " 'trim_zeros',\n",
              " 'triu',\n",
              " 'triu_indices',\n",
              " 'triu_indices_from',\n",
              " 'true_divide',\n",
              " 'trunc',\n",
              " 'typeDict',\n",
              " 'typeNA',\n",
              " 'typecodes',\n",
              " 'typename',\n",
              " 'ubyte',\n",
              " 'ufunc',\n",
              " 'uint',\n",
              " 'uint0',\n",
              " 'uint16',\n",
              " 'uint32',\n",
              " 'uint64',\n",
              " 'uint8',\n",
              " 'uintc',\n",
              " 'uintp',\n",
              " 'ulonglong',\n",
              " 'unicode',\n",
              " 'unicode_',\n",
              " 'union1d',\n",
              " 'unique',\n",
              " 'unpackbits',\n",
              " 'unravel_index',\n",
              " 'unsignedinteger',\n",
              " 'unwrap',\n",
              " 'use_hugepage',\n",
              " 'ushort',\n",
              " 'vander',\n",
              " 'var',\n",
              " 'vdot',\n",
              " 'vectorize',\n",
              " 'version',\n",
              " 'void',\n",
              " 'void0',\n",
              " 'vsplit',\n",
              " 'vstack',\n",
              " 'warnings',\n",
              " 'where',\n",
              " 'who',\n",
              " 'zeros',\n",
              " 'zeros_like']"
            ]
          },
          "metadata": {
            "tags": []
          },
          "execution_count": 21
        }
      ]
    },
    {
      "cell_type": "markdown",
      "metadata": {
        "id": "T4KG9N3pGcRz"
      },
      "source": [
        "*Let's try out some numpy functions*"
      ]
    },
    {
      "cell_type": "code",
      "metadata": {
        "id": "n66uVZNnGcSJ",
        "colab": {
          "base_uri": "https://localhost:8080/"
        },
        "outputId": "8e959202-f1ac-47d8-8cd6-f51fb7735ad5"
      },
      "source": [
        "# Function 1: np.arange()\n",
        "# This works just like the Python \"range\"\n",
        "# Create an array of all even numbers from 4 to 20\n",
        "\n",
        "even_number_list = np.arange(4, 21, 2) \n",
        "\n",
        "even_number_list"
      ],
      "execution_count": null,
      "outputs": [
        {
          "output_type": "execute_result",
          "data": {
            "text/plain": [
              "array([ 4,  6,  8, 10, 12, 14, 16, 18, 20])"
            ]
          },
          "metadata": {
            "tags": []
          },
          "execution_count": 22
        }
      ]
    },
    {
      "cell_type": "markdown",
      "metadata": {
        "id": "p9xqE-cIGcSM"
      },
      "source": [
        "\n",
        "\n"
      ]
    },
    {
      "cell_type": "code",
      "metadata": {
        "id": "PIj90SK0GcSO",
        "colab": {
          "base_uri": "https://localhost:8080/"
        },
        "outputId": "b58c5dc1-3bf1-4113-e25a-8ff3e18e3a50"
      },
      "source": [
        "# Functions 2 & 3: np.zeros() and np.ones()\n",
        "# They return arrays of zeros and ones respectively\n",
        "\n",
        "# Create an array of 3 ones\n",
        "ones_array = np.ones(5)\n",
        "\n",
        "ones_array"
      ],
      "execution_count": null,
      "outputs": [
        {
          "output_type": "execute_result",
          "data": {
            "text/plain": [
              "array([1., 1., 1., 1., 1.])"
            ]
          },
          "metadata": {
            "tags": []
          },
          "execution_count": 23
        }
      ]
    },
    {
      "cell_type": "code",
      "metadata": {
        "id": "omvEMLl3GcSc",
        "colab": {
          "base_uri": "https://localhost:8080/"
        },
        "outputId": "9b6e0f9f-b3cd-431e-f4c1-686512ccea1e"
      },
      "source": [
        "# Create an array of 3 zeros\n",
        "zeros_array = np.zeros(5)\n",
        "\n",
        "zeros_array"
      ],
      "execution_count": null,
      "outputs": [
        {
          "output_type": "execute_result",
          "data": {
            "text/plain": [
              "array([0., 0., 0., 0., 0.])"
            ]
          },
          "metadata": {
            "tags": []
          },
          "execution_count": 25
        }
      ]
    },
    {
      "cell_type": "code",
      "metadata": {
        "id": "Lz_wXNMLGcSe",
        "colab": {
          "base_uri": "https://localhost:8080/"
        },
        "outputId": "fa3a0a82-3ff8-4c1f-9f3a-6a63aae74f8f"
      },
      "source": [
        "# Add \"ones_array\" to \"zeros_array\"\n",
        "ones_array + zeros_array"
      ],
      "execution_count": null,
      "outputs": [
        {
          "output_type": "execute_result",
          "data": {
            "text/plain": [
              "array([1., 1., 1., 1., 1.])"
            ]
          },
          "metadata": {
            "tags": []
          },
          "execution_count": 26
        }
      ]
    },
    {
      "cell_type": "code",
      "metadata": {
        "id": "xDWSQhnFGcSm",
        "colab": {
          "base_uri": "https://localhost:8080/"
        },
        "outputId": "d18841b1-347c-4843-eb91-bfcccb6b8fd5"
      },
      "source": [
        "# Multiply \"ones_array\" and \"zeros_array\"\n",
        "ones_array * zeros_array"
      ],
      "execution_count": null,
      "outputs": [
        {
          "output_type": "execute_result",
          "data": {
            "text/plain": [
              "array([0., 0., 0., 0., 0.])"
            ]
          },
          "metadata": {
            "tags": []
          },
          "execution_count": 27
        }
      ]
    },
    {
      "cell_type": "markdown",
      "metadata": {
        "id": "RnUMRbRxGcSq"
      },
      "source": [
        "\n",
        "\n"
      ]
    },
    {
      "cell_type": "code",
      "metadata": {
        "id": "GAEpUeGfGcSt",
        "colab": {
          "base_uri": "https://localhost:8080/"
        },
        "outputId": "6147d120-b54a-4b5e-9965-322ca82b02d7"
      },
      "source": [
        "# Function 4: np.linspace()\n",
        "# Create a y-axis ranging from -2 to 2 if you have 9 grid markings \n",
        "\n",
        "y_axis = np.linspace(-2, 2, 8)\n",
        "\n",
        "y_axis"
      ],
      "execution_count": null,
      "outputs": [
        {
          "output_type": "execute_result",
          "data": {
            "text/plain": [
              "array([-2.        , -1.42857143, -0.85714286, -0.28571429,  0.28571429,\n",
              "        0.85714286,  1.42857143,  2.        ])"
            ]
          },
          "metadata": {
            "tags": []
          },
          "execution_count": 29
        }
      ]
    },
    {
      "cell_type": "code",
      "metadata": {
        "id": "XuBC2ah0GcTA",
        "colab": {
          "base_uri": "https://localhost:8080/"
        },
        "outputId": "6331cac5-ff77-4e97-903c-f754c0003890"
      },
      "source": [
        "# Function 5: np.eye()\n",
        "# Create a 2 by 2 array which has ones in its first diagonal and zeros everywhere else\n",
        "# This is called an identity matrix\n",
        "\n",
        "identity_matrix = np.eye(3, 3)\n",
        "\n",
        "identity_matrix"
      ],
      "execution_count": null,
      "outputs": [
        {
          "output_type": "execute_result",
          "data": {
            "text/plain": [
              "array([[1., 0., 0.],\n",
              "       [0., 1., 0.],\n",
              "       [0., 0., 1.]])"
            ]
          },
          "metadata": {
            "tags": []
          },
          "execution_count": 32
        }
      ]
    },
    {
      "cell_type": "markdown",
      "metadata": {
        "id": "FW4-M1R7GcT_"
      },
      "source": [
        "   \n",
        "    \n",
        "    "
      ]
    },
    {
      "cell_type": "markdown",
      "metadata": {
        "id": "AUSsNnN1GcUD"
      },
      "source": [
        "\n",
        "*Also, numpy helps you handle arrays and other generic math functions:*"
      ]
    },
    {
      "cell_type": "markdown",
      "metadata": {
        "id": "O93bA9uPGcUH"
      },
      "source": [
        "# Numpy arrays"
      ]
    },
    {
      "cell_type": "code",
      "metadata": {
        "id": "4_kN20zuGcUI"
      },
      "source": [
        "# Create a one dimensional array\n",
        "array_1 = np.array([1, 2, 3, 4, 5])"
      ],
      "execution_count": null,
      "outputs": []
    },
    {
      "cell_type": "code",
      "metadata": {
        "id": "4B0OmZ7iGcUJ",
        "colab": {
          "base_uri": "https://localhost:8080/"
        },
        "outputId": "735965e0-1457-49c6-cb49-d0ac567dbddd"
      },
      "source": [
        "# Check for the second element\n",
        "# Note that numpy arrays work like Python lists\n",
        "\n",
        "array_1[4] "
      ],
      "execution_count": null,
      "outputs": [
        {
          "output_type": "execute_result",
          "data": {
            "text/plain": [
              "5"
            ]
          },
          "metadata": {
            "tags": []
          },
          "execution_count": 35
        }
      ]
    },
    {
      "cell_type": "markdown",
      "metadata": {
        "id": "c1bL05qbGcUR"
      },
      "source": [
        "*Now let's try some attributes and methods of numpy arrays*"
      ]
    },
    {
      "cell_type": "code",
      "metadata": {
        "id": "aUhWV5kCGcUT",
        "colab": {
          "base_uri": "https://localhost:8080/"
        },
        "outputId": "0f13dd7b-db59-4680-e19d-e1895585b8e5"
      },
      "source": [
        "# Attribute 1: Shape\n",
        "# Check the shape of \"array_1\"\n",
        "# The shape shows you the dimensions of the array\n",
        "\n",
        "array_1.shape"
      ],
      "execution_count": null,
      "outputs": [
        {
          "output_type": "execute_result",
          "data": {
            "text/plain": [
              "(5,)"
            ]
          },
          "metadata": {
            "tags": []
          },
          "execution_count": 36
        }
      ]
    },
    {
      "cell_type": "code",
      "metadata": {
        "id": "I7ZC-CeKGcUd",
        "colab": {
          "base_uri": "https://localhost:8080/"
        },
        "outputId": "d3e122e4-8f33-4300-de3e-3cb4d77b478c"
      },
      "source": [
        "# Define a two-dimensional array \n",
        "# Check it's shape\n",
        "\n",
        "array_2 = np.array([[1, 2],\n",
        "                    [3, 4],\n",
        "                    [5, 6]])\n",
        "\n",
        "array_2.shape"
      ],
      "execution_count": null,
      "outputs": [
        {
          "output_type": "execute_result",
          "data": {
            "text/plain": [
              "(3, 2)"
            ]
          },
          "metadata": {
            "tags": []
          },
          "execution_count": 38
        }
      ]
    },
    {
      "cell_type": "markdown",
      "metadata": {
        "id": "gvwz1nttGcUl"
      },
      "source": [
        "\n",
        "\n"
      ]
    },
    {
      "cell_type": "code",
      "metadata": {
        "id": "Swj7YSnPGcUn",
        "colab": {
          "base_uri": "https://localhost:8080/"
        },
        "outputId": "f1553bdb-4a8c-4847-cf3e-45ef1865d9f3"
      },
      "source": [
        "# Attribute 2 & 3: array.min() & array.max()\n",
        "# What is the largest number in array_2\n",
        "\n",
        "array_2.max()"
      ],
      "execution_count": null,
      "outputs": [
        {
          "output_type": "execute_result",
          "data": {
            "text/plain": [
              "6"
            ]
          },
          "metadata": {
            "tags": []
          },
          "execution_count": 39
        }
      ]
    },
    {
      "cell_type": "code",
      "metadata": {
        "id": "VqgvmGuOGcWA",
        "colab": {
          "base_uri": "https://localhost:8080/"
        },
        "outputId": "f7338f08-68cb-4e9a-c0bd-1dfa0bfc6ab3"
      },
      "source": [
        "# What is the smallest number in array_2\n",
        "\n",
        "array_2.min()"
      ],
      "execution_count": null,
      "outputs": [
        {
          "output_type": "execute_result",
          "data": {
            "text/plain": [
              "1"
            ]
          },
          "metadata": {
            "tags": []
          },
          "execution_count": 40
        }
      ]
    },
    {
      "cell_type": "markdown",
      "metadata": {
        "id": "CWVRQ6MRGcWD"
      },
      "source": [
        "*You can also index and select elements in arrays*"
      ]
    },
    {
      "cell_type": "code",
      "metadata": {
        "id": "ZntoZTKUGcWT",
        "colab": {
          "base_uri": "https://localhost:8080/"
        },
        "outputId": "7c328a9c-6b3d-4de4-9c17-fdbd7b1f6c59"
      },
      "source": [
        "# What is the element in the 2nd row, 1st column of array_2\n",
        "# You state the row first, followed by the column (i.e array[row][column])\n",
        "\n",
        "# Note that indexing begins from zero\n",
        "\n",
        "array_3 = np.array([[2,3], \n",
        "                   [4, 7],\n",
        "                    [9, 5]])\n",
        "array_3[2][0]"
      ],
      "execution_count": null,
      "outputs": [
        {
          "output_type": "execute_result",
          "data": {
            "text/plain": [
              "9"
            ]
          },
          "metadata": {
            "tags": []
          },
          "execution_count": 42
        }
      ]
    },
    {
      "cell_type": "markdown",
      "metadata": {
        "id": "QE1DcKNhGcWU"
      },
      "source": [
        "\n",
        "\n"
      ]
    },
    {
      "cell_type": "markdown",
      "metadata": {
        "id": "eakx3FUYGcWV"
      },
      "source": [
        "\n"
      ]
    },
    {
      "cell_type": "markdown",
      "metadata": {
        "id": "dostG-6eGcWX"
      },
      "source": [
        "*For future reference, you can learn more about np functions, methods and attributes from the documentation*"
      ]
    },
    {
      "cell_type": "code",
      "metadata": {
        "id": "yHGrQkx-GcWe"
      },
      "source": [
        "# This gives you examples of how to implement that function\n",
        "# For instance,\n",
        "\n",
        "np.arange?"
      ],
      "execution_count": null,
      "outputs": []
    },
    {
      "cell_type": "code",
      "metadata": {
        "id": "hjHkabeIGcWl"
      },
      "source": [
        "# Pandas"
      ],
      "execution_count": null,
      "outputs": []
    },
    {
      "cell_type": "markdown",
      "metadata": {
        "id": "7A7xYFUDGcWo"
      },
      "source": [
        "# Awesome Work"
      ]
    }
  ]
}